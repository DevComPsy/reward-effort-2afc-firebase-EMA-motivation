{
 "cells": [
  {
   "cell_type": "code",
   "execution_count": 1,
   "id": "dbc1eacc",
   "metadata": {
    "scrolled": true
   },
   "outputs": [
    {
     "name": "stdout",
     "output_type": "stream",
     "text": [
      "Firebase connected\n"
     ]
    }
   ],
   "source": [
    "import firebase_admin\n",
    "from firebase_admin import credentials, firestore, db\n",
    "import json\n",
    "import sys\n",
    "import pandas as pd\n",
    "pd.set_option(\"display.max_rows\", None, \"display.max_columns\", None)\n",
    "import os\n",
    "from tqdm import tqdm\n",
    "\n",
    "####### select task name and version to download #######\n",
    "taskname = 'rew-eff-ema'\n",
    "version = 'study1'\n",
    "project_dir=(r'C:/Users/shewitt/Documents/GitHub/reward-effort-2afc-firebase-BEX-FU/')\n",
    "data_dir=(r'D:/EMA_Motivation/data/study1/ema/task/')\n",
    "######\n",
    "isExist = os.path.exists(data_dir)\n",
    "if not isExist:\n",
    "   # Create data_dir because it does not exist\n",
    "    os.mkdir(data_dir)\n",
    "\n",
    "# set up firebase credentials\n",
    "cred = credentials.Certificate('D:/EMA_Motivation/data/study1/firebase_private_key/ema-motivation-firebase-adminsdk-1tmnj-a042345e48.json')\n",
    "default_app = firebase_admin.initialize_app(cred)\n",
    "print(\"Firebase connected\")"
   ]
  },
  {
   "cell_type": "code",
   "execution_count": 2,
   "id": "4c6f3237",
   "metadata": {},
   "outputs": [
    {
     "name": "stderr",
     "output_type": "stream",
     "text": [
      "\r",
      "  0%|          | 0/1219 [00:00<?, ?file/s]"
     ]
    },
    {
     "name": "stdout",
     "output_type": "stream",
     "text": [
      "downloading files...\n"
     ]
    },
    {
     "name": "stderr",
     "output_type": "stream",
     "text": [
      " 85%|████████▍ | 1034/1219 [01:35<00:17, 10.83file/s]"
     ]
    },
    {
     "name": "stdout",
     "output_type": "stream",
     "text": [
      "all done.\n",
      "Total errors: 53\n"
     ]
    },
    {
     "name": "stderr",
     "output_type": "stream",
     "text": [
      "\n"
     ]
    }
   ],
   "source": [
    "# get all current data\n",
    "client = firestore.client(default_app)\n",
    "# make a dir for raw data\n",
    "isExist = os.path.exists((data_dir + 'raw/'))\n",
    "if not isExist:\n",
    "   # Create data_dir because it does not exist\n",
    "    os.mkdir(data_dir + 'raw/')\n",
    "\n",
    "# lists to save\n",
    "practice=[]; pre=[]; task=[]\n",
    "\n",
    "# Initialize a counter and calculate the maximum dynamically\n",
    "downloaded_count = 0\n",
    "error_count = 0\n",
    "total_files = sum(1 for _ in client.collection(taskname).document(version).collections() for _ in _.stream())\n",
    "\n",
    "# loop across all current participants\n",
    "collections = client.collection(taskname).document(version).collections()\n",
    "with tqdm(total=total_files, unit=\"file\") as pbar:\n",
    "    print('downloading files...')\n",
    "    for sub in collections:\n",
    "        for attempt in sub.stream():\n",
    "            #skip the maxthreshold documents\n",
    "            try:\n",
    "                if attempt.id!=\"maxThreshold\":\n",
    "                    # get id info:\n",
    "                    idinfo = client.document(taskname+'/'+version+'/{0}/{1}'.format(sub.id, attempt.id)).get().to_dict()\n",
    "                    subid = str(idinfo['userHash'])\n",
    "                    attemptID = str(idinfo[\"attemptHash\"])\n",
    "                    fsid = str(idinfo['firebaseUID'])  \n",
    "                    # if this participant at least started the task, get their data \n",
    "                        # get practice task data, pre-task questions and main task data\n",
    "                    # there's no practice for follow-up short game attempts:\n",
    "                    if str(idinfo[\"gameType\"])==\"baseline\":\n",
    "                        pracdata = client.document(taskname+'/'+version+'/{0}/{1}/practice-data/data'.format(sub.id, attempt.id)).get().to_dict()\n",
    "                        # write data to the raw directory\n",
    "                        with open(data_dir + 'raw/' + version+'-'+subid+'-'+fsid+'-'+attemptID+'-prac-data.txt','w') as f:\n",
    "                            f.write(json.dumps({ **idinfo, **pracdata})) # practice task data\n",
    "                    \n",
    "                    # for other follow up games:\n",
    "                    qdata = client.document(taskname+'/'+version+'/{0}/{1}/quest/data'.format(sub.id, attempt.id)).get().to_dict()\n",
    "                    taskdata = client.document(taskname+'/'+version+'/{0}/{1}/task-data/data'.format(sub.id, attempt.id)).get().to_dict()\n",
    "\n",
    "                    with open(data_dir + 'raw/' + version+'-'+subid+'-'+fsid+'-'+attemptID+'-quest.txt','w') as f:\n",
    "                        f.write(json.dumps({ **idinfo, **qdata})) # STATE Qs \n",
    "                    with open(data_dir +'raw/' + version+'-'+subid+'-'+fsid+'-'+attemptID+'-task-data.txt','w') as f:\n",
    "                        f.write(json.dumps({ **idinfo, **taskdata})) # TASK data\n",
    "                    #print(\"id:\"+subid+' ver:'+version+' attempt:'+attemptID+ ' downloaded!')\n",
    "\n",
    "                    # Update the counter\n",
    "                    downloaded_count += 1\n",
    "\n",
    "                    # Update the progress bar\n",
    "                    pbar.update(1)\n",
    "            except:\n",
    "                # update counter\n",
    "                error_count += 1\n",
    "\n",
    "                # if you want, print the error ids:\n",
    "                #print(\"id:\"+subid+' ver:'+version+' attempt:'+attemptID+ ' error!')\n",
    "                #print('error uid = '+subid)\n",
    "                #print('attempt hash = '+attemptID)\n",
    " \n",
    "# end messages:\n",
    "print('all done.')\n",
    "# Print the total number of errors\n",
    "print(f\"Total errors: {error_count}\")"
   ]
  }
 ],
 "metadata": {
  "kernelspec": {
   "display_name": "Python 3 (ipykernel)",
   "language": "python",
   "name": "python3"
  },
  "language_info": {
   "codemirror_mode": {
    "name": "ipython",
    "version": 3
   },
   "file_extension": ".py",
   "mimetype": "text/x-python",
   "name": "python",
   "nbconvert_exporter": "python",
   "pygments_lexer": "ipython3",
   "version": "3.9.7"
  }
 },
 "nbformat": 4,
 "nbformat_minor": 5
}
